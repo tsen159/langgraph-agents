{
 "cells": [
  {
   "cell_type": "markdown",
   "id": "e4493277",
   "metadata": {},
   "source": [
    "# Exercise 5\n",
    "\n",
    "Implement an Automatic Higher or Lower Game\n",
    "\n",
    "Set the bounds to between 1 to 20. The Graph has to keep guessing (max number of guesses is 7) where if the guess is correct, then it stops, but if not we keep looping until we hit the max limit of 7.\n",
    "\n",
    "Each time a number is guessed, the hint node should say higher or lower and the graph should account for this information and guess the next guess accordingly.\n",
    "\n",
    "Input: {\"player_name\": \"Student\", \"guesses\": [], \"attempts\": 0, \"lower_bound\": 1, \"upper_bound\": 20}\n",
    "\n",
    "Hint: It will need to adjust its bounds after every guess based on the hint provided by the hint node."
   ]
  },
  {
   "cell_type": "code",
   "execution_count": 34,
   "id": "97999b3f",
   "metadata": {},
   "outputs": [],
   "source": [
    "import random\n",
    "from typing import List, TypedDict\n",
    "from langgraph.graph import StateGraph, START, END # start and end point\n",
    "from IPython.display import Image, display"
   ]
  },
  {
   "cell_type": "code",
   "execution_count": 35,
   "id": "b2cae477",
   "metadata": {},
   "outputs": [
    {
     "data": {
      "image/png": "[encoded data removed]",
      "text/plain": [
       "<IPython.core.display.Image object>"
      ]
     },
     "metadata": {},
     "output_type": "display_data"
    }
   ],
   "source": [
    "class AgentState(TypedDict):\n",
    "    player_name: str\n",
    "    guesses: List[int]\n",
    "    attempts: int\n",
    "    lower_bound: int\n",
    "    upper_bound: int\n",
    "    answer: int\n",
    "\n",
    "def setup_node(state: AgentState) -> AgentState:\n",
    "    state[\"player_name\"] = f\"Hi {state[\"player_name\"]}.\"\n",
    "    state[\"attempts\"] = 0\n",
    "    if not state[\"lower_bound\"]: state[\"lower_bound\"] = 1\n",
    "    if not state[\"upper_bound\"]: state[\"upper_bound\"] = 20\n",
    "    state[\"answer\"] = random.randint(state[\"lower_bound\"], state[\"upper_bound\"]) # contain upper_bound\n",
    "    return state\n",
    "\n",
    "def guess_node(state: AgentState) -> AgentState:\n",
    "    guess = random.randint(state[\"lower_bound\"], state[\"upper_bound\"])\n",
    "    state[\"guesses\"].append(guess)\n",
    "    state[\"attempts\"] += 1\n",
    "    return state\n",
    "\n",
    "def hint_node(state: AgentState) -> AgentState:\n",
    "    guess = state[\"guesses\"][-1]\n",
    "    if guess > state[\"answer\"]:\n",
    "        print(f\"Your guess is {guess}. Too high!\")\n",
    "        state[\"upper_bound\"] = guess - 1\n",
    "    elif guess < state[\"answer\"]:\n",
    "        print(f\"Your guess is {guess}. Too low!\")\n",
    "        state[\"lower_bound\"] = guess + 1\n",
    "    else:\n",
    "        print(f\"Right answer! The answer is {state[\"answer\"]}.\")\n",
    "    return state\n",
    "\n",
    "# router function\n",
    "def router(state: AgentState):\n",
    "    if state[\"guesses\"][-1] == state[\"answer\"]:\n",
    "        return \"end\"\n",
    "    elif state[\"attempts\"] > 7: \n",
    "        return \"end\"\n",
    "    else: \n",
    "        return \"continue\"\n",
    "\n",
    "graph = StateGraph(AgentState)\n",
    "graph.add_node(\"setup\", setup_node)\n",
    "graph.add_node(\"guess\", guess_node)\n",
    "graph.add_node(\"hint\", hint_node)\n",
    "\n",
    "graph.add_edge(START, \"setup\")\n",
    "graph.add_edge(\"setup\", \"guess\")\n",
    "graph.add_edge(\"guess\", \"hint\")\n",
    "graph.add_conditional_edges(\n",
    "    \"hint\",\n",
    "    router,\n",
    "    {\n",
    "        \"continue\": \"guess\",\n",
    "        \"end\": END,\n",
    "    }\n",
    ")\n",
    "app = graph.compile()\n",
    "display(Image(app.get_graph().draw_mermaid_png()))"
   ]
  },
  {
   "cell_type": "code",
   "execution_count": 36,
   "id": "acb0b9b5",
   "metadata": {},
   "outputs": [
    {
     "name": "stdout",
     "output_type": "stream",
     "text": [
      "Your guess is 3. Too low!\n",
      "Your guess is 16. Too high!\n",
      "Right answer! The answer is 8.\n"
     ]
    },
    {
     "data": {
      "text/plain": [
       "{'player_name': 'Hi Student.',\n",
       " 'guesses': [3, 16, 8],\n",
       " 'attempts': 3,\n",
       " 'lower_bound': 4,\n",
       " 'upper_bound': 15,\n",
       " 'answer': 8}"
      ]
     },
     "execution_count": 36,
     "metadata": {},
     "output_type": "execute_result"
    }
   ],
   "source": [
    "input = {\"player_name\": \"Student\", \"guesses\": [], \"attempts\": 0, \"lower_bound\": 1, \"upper_bound\": 20}\n",
    "app.invoke(input)"
   ]
  }
 ],
 "metadata": {
  "kernelspec": {
   "display_name": ".venv",
   "language": "python",
   "name": "python3"
  },
  "language_info": {
   "codemirror_mode": {
    "name": "ipython",
    "version": 3
   },
   "file_extension": ".py",
   "mimetype": "text/x-python",
   "name": "python",
   "nbconvert_exporter": "python",
   "pygments_lexer": "ipython3",
   "version": "3.13.0"
  }
 },
 "nbformat": 4,
 "nbformat_minor": 5
}
