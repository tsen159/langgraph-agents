{
 "cells": [
  {
   "cell_type": "code",
   "execution_count": 2,
   "id": "7a289407",
   "metadata": {},
   "outputs": [],
   "source": [
    "from typing import Dict, TypedDict\n",
    "from langgraph.graph import StateGraph, START, END # start and end point\n",
    "from IPython.display import Image, display"
   ]
  },
  {
   "cell_type": "code",
   "execution_count": 3,
   "id": "c5ebe1d1",
   "metadata": {},
   "outputs": [],
   "source": [
    "class AgentState(TypedDict):\n",
    "    number1: int\n",
    "    number2: int\n",
    "    operation: str\n",
    "    final: int"
   ]
  },
  {
   "cell_type": "code",
   "execution_count": 4,
   "id": "be183145",
   "metadata": {},
   "outputs": [],
   "source": [
    "def add_node(state: AgentState) -> AgentState:\n",
    "    state[\"final\"] = state[\"number1\"] + state[\"number2\"]\n",
    "    return state\n",
    "def subtract_node(state: AgentState) -> AgentState:\n",
    "    state[\"final\"] = state[\"number1\"] - state[\"number2\"]\n",
    "    return state\n",
    "\n",
    "def decide(state: AgentState): \n",
    "    # This is a function, not a node\n",
    "    if state[\"operation\"] == \"+\":\n",
    "        return \"add_operation\"\n",
    "    elif state[\"operation\"] == \"-\":\n",
    "        return \"sub_operation\""
   ]
  },
  {
   "cell_type": "code",
   "execution_count": null,
   "id": "ec463650",
   "metadata": {},
   "outputs": [
    {
     "data": {
      "text/plain": [
       "{'number1': 5, 'number2': 2, 'operation': '+', 'final': 7}"
      ]
     },
     "execution_count": 5,
     "metadata": {},
     "output_type": "execute_result"
    }
   ],
   "source": [
    "graph = StateGraph(AgentState)\n",
    "\n",
    "graph.add_node(\"add_node\", add_node)\n",
    "graph.add_node(\"subtract_node\", subtract_node)\n",
    "graph.add_node(\"router\", lambda state: state) # state will not change\n",
    "\n",
    "graph.add_edge(START, \"router\")\n",
    "graph.add_conditional_edges( # from \"router\", using a function, to certain node based on what the function returns\n",
    "    \"router\",\n",
    "    decide,\n",
    "    {\n",
    "        \"add_operation\": \"add_node\", # edge, node\n",
    "        \"sub_operation\": \"subtract_node\"\n",
    "    }\n",
    ")\n",
    "graph.add_edge(\"add_node\", END)\n",
    "graph.add_edge(\"subtract_node\", END)\n",
    "app = graph.compile()\n",
    "\n",
    "app.invoke(\n",
    "    {\n",
    "        \"number1\": 5,\n",
    "        \"number2\": 2,\n",
    "        \"operation\": \"+\",\n",
    "    }\n",
    ")"
   ]
  },
  {
   "cell_type": "code",
   "execution_count": 6,
   "id": "a8b746bf",
   "metadata": {},
   "outputs": [
    {
     "data": {
      "image/png": "[encoded data removed]",
      "text/plain": [
       "<IPython.core.display.Image object>"
      ]
     },
     "metadata": {},
     "output_type": "display_data"
    }
   ],
   "source": [
    "display(Image(app.get_graph().draw_mermaid_png()))"
   ]
  }
 ],
 "metadata": {
  "kernelspec": {
   "display_name": ".venv",
   "language": "python",
   "name": "python3"
  },
  "language_info": {
   "codemirror_mode": {
    "name": "ipython",
    "version": 3
   },
   "file_extension": ".py",
   "mimetype": "text/x-python",
   "name": "python",
   "nbconvert_exporter": "python",
   "pygments_lexer": "ipython3",
   "version": "3.13.0"
  }
 },
 "nbformat": 4,
 "nbformat_minor": 5
}
